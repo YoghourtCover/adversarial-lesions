{
 "cells": [
  {
   "cell_type": "code",
   "execution_count": 1,
   "metadata": {},
   "outputs": [
    {
     "name": "stderr",
     "output_type": "stream",
     "text": [
      "Using TensorFlow backend.\n"
     ]
    }
   ],
   "source": [
    "import pandas as pd\n",
    "import matplotlib.pyplot as plt\n",
    "import os\n",
    "import cv2\n",
    "import numpy as np\n",
    "from tqdm import tqdm\n",
    "from keras.utils import np_utils\n",
    "import helpers"
   ]
  },
  {
   "cell_type": "markdown",
   "metadata": {},
   "source": [
    "#### Partition ISIC archive to cancer and normal class folders"
   ]
  },
  {
   "cell_type": "code",
   "execution_count": 2,
   "metadata": {},
   "outputs": [],
   "source": [
    "def crop_and_resize(img, resize_dim=299):\n",
    "    #val = 240\n",
    "    #y,x,channel = img.shape\n",
    "    #startx = x//2-(resize_dim//2)\n",
    "    #starty = y//2-(resize_dim//2)\n",
    "    #img = img[starty:starty+resize_dim,startx:startx+resize_dim]\n",
    "    img=cv2.resize(img,(resize_dim,resize_dim),interpolation=cv2.INTER_AREA)\n",
    "    \n",
    "    return img\n",
    "\n",
    "def get_image(path):\n",
    "    \n",
    "    img=cv2.imread(path)\n",
    "    img=cv2.cvtColor(img,cv2.COLOR_BGR2RGB)\n",
    "    img=crop_and_resize(img)\n",
    "    return img"
   ]
  },
  {
   "cell_type": "code",
   "execution_count": 3,
   "metadata": {},
   "outputs": [],
   "source": [
    "def get_data(path):\n",
    "    img=cv2.imread(path)\n",
    "    #img=cv2.cvtColor(img,cv2.COLOR_BGR2RGB)\n",
    "    return img"
   ]
  },
  {
   "cell_type": "code",
   "execution_count": 4,
   "metadata": {},
   "outputs": [
    {
     "data": {
      "text/plain": [
       "'C:\\\\Users\\\\Hasib\\\\Desktop\\\\works\\\\lesion-learnt\\\\dataset'"
      ]
     },
     "execution_count": 4,
     "metadata": {},
     "output_type": "execute_result"
    }
   ],
   "source": [
    "#Root directory of the project\n",
    "ROOT_DIR = os.path.abspath(\".\")\n",
    "# Training file directory\n",
    "DATASET = os.path.join(ROOT_DIR, 'dataset')\n",
    "DATASET"
   ]
  },
  {
   "cell_type": "code",
   "execution_count": 5,
   "metadata": {},
   "outputs": [
    {
     "data": {
      "text/plain": [
       "'C:\\\\Users\\\\Hasib\\\\Desktop\\\\works\\\\lesion-learnt\\\\dataset/ISIC_ARCHIVE'"
      ]
     },
     "execution_count": 5,
     "metadata": {},
     "output_type": "execute_result"
    }
   ],
   "source": [
    "helpers.create_directory(\"{}/ISIC_ARCHIVE/\".format(DATASET))\n",
    "NEW_DATASET_PATH = \"{}/{}\".format(DATASET, \"ISIC_ARCHIVE\")\n",
    "NEW_DATASET_PATH"
   ]
  },
  {
   "cell_type": "code",
   "execution_count": 6,
   "metadata": {},
   "outputs": [],
   "source": [
    "helpers.create_directory(\"{}/normal\".format(NEW_DATASET_PATH))\n",
    "helpers.create_directory(\"{}/cancer\".format(NEW_DATASET_PATH))\n",
    "helpers.create_directory(\"{}/normal_2629\".format(NEW_DATASET_PATH))"
   ]
  },
  {
   "cell_type": "code",
   "execution_count": 7,
   "metadata": {},
   "outputs": [
    {
     "data": {
      "text/plain": [
       "('C:\\\\Users\\\\Hasib\\\\Desktop\\\\works\\\\lesion-learnt\\\\dataset/ISIC_ARCHIVE/cancer',\n",
       " 'C:\\\\Users\\\\Hasib\\\\Desktop\\\\works\\\\lesion-learnt\\\\dataset/ISIC_ARCHIVE/normal')"
      ]
     },
     "execution_count": 7,
     "metadata": {},
     "output_type": "execute_result"
    }
   ],
   "source": [
    "# new paths\n",
    "CANCER_FOLDER = \"{}/cancer\".format(NEW_DATASET_PATH)\n",
    "NORMAL_FOLDER = \"{}/normal\".format(NEW_DATASET_PATH)\n",
    "\n",
    "CANCER_FOLDER, NORMAL_FOLDER"
   ]
  },
  {
   "cell_type": "code",
   "execution_count": 8,
   "metadata": {},
   "outputs": [
    {
     "data": {
      "text/plain": [
       "('C:\\\\Users\\\\Hasib\\\\Desktop\\\\works\\\\lesion-learnt\\\\dataset/data/Descriptions',\n",
       " 'C:\\\\Users\\\\Hasib\\\\Desktop\\\\works\\\\lesion-learnt\\\\dataset/data/Images')"
      ]
     },
     "execution_count": 8,
     "metadata": {},
     "output_type": "execute_result"
    }
   ],
   "source": [
    "# archive path\n",
    "ANNOT = \"{}/data/{}\".format(DATASET, \"Descriptions\")\n",
    "IMAGES = \"{}/data/{}\".format(DATASET, \"Images\")\n",
    "ANNOT, IMAGES"
   ]
  },
  {
   "cell_type": "code",
   "execution_count": 9,
   "metadata": {},
   "outputs": [
    {
     "data": {
      "text/plain": [
       "(23906, 23906)"
      ]
     },
     "execution_count": 9,
     "metadata": {},
     "output_type": "execute_result"
    }
   ],
   "source": [
    "len(os.listdir(ANNOT)), len(os.listdir(IMAGES))"
   ]
  },
  {
   "cell_type": "code",
   "execution_count": 10,
   "metadata": {},
   "outputs": [],
   "source": [
    "fname = os.listdir(ANNOT)[0]"
   ]
  },
  {
   "cell_type": "code",
   "execution_count": 11,
   "metadata": {},
   "outputs": [
    {
     "data": {
      "text/plain": [
       "<_io.TextIOWrapper name='C:\\\\Users\\\\Hasib\\\\Desktop\\\\works\\\\lesion-learnt\\\\dataset/data/Descriptions/ISIC_0000000' mode='r' encoding='cp1252'>"
      ]
     },
     "execution_count": 11,
     "metadata": {},
     "output_type": "execute_result"
    }
   ],
   "source": [
    "f=open(\"{}/{}\".format(ANNOT, fname), \"r\")\n",
    "f"
   ]
  },
  {
   "cell_type": "code",
   "execution_count": 12,
   "metadata": {},
   "outputs": [],
   "source": [
    "import json\n",
    "with open(\"{}/{}\".format(ANNOT, fname), \"rb\") as fin:\n",
    "    content = json.load(fin)"
   ]
  },
  {
   "cell_type": "code",
   "execution_count": 13,
   "metadata": {},
   "outputs": [
    {
     "data": {
      "text/plain": [
       "dict"
      ]
     },
     "execution_count": 13,
     "metadata": {},
     "output_type": "execute_result"
    }
   ],
   "source": [
    "type(content)"
   ]
  },
  {
   "cell_type": "code",
   "execution_count": 14,
   "metadata": {},
   "outputs": [
    {
     "data": {
      "text/plain": [
       "'benign'"
      ]
     },
     "execution_count": 14,
     "metadata": {},
     "output_type": "execute_result"
    }
   ],
   "source": [
    "content['meta']['clinical']['benign_malignant']"
   ]
  },
  {
   "cell_type": "code",
   "execution_count": 15,
   "metadata": {},
   "outputs": [
    {
     "data": {
      "text/plain": [
       "['C:\\\\Users\\\\Hasib\\\\Desktop\\\\works\\\\lesion-learnt\\\\dataset/data/Descriptions/ISIC_0000000',\n",
       " 'C:\\\\Users\\\\Hasib\\\\Desktop\\\\works\\\\lesion-learnt\\\\dataset/data/Descriptions/ISIC_0000001']"
      ]
     },
     "execution_count": 15,
     "metadata": {},
     "output_type": "execute_result"
    }
   ],
   "source": [
    "annot_names = [\"{}/{}\".format(ANNOT, fname) for fname in os.listdir(ANNOT)]\n",
    "annot_names[:2]"
   ]
  },
  {
   "cell_type": "code",
   "execution_count": 16,
   "metadata": {},
   "outputs": [
    {
     "data": {
      "text/plain": [
       "['C:\\\\Users\\\\Hasib\\\\Desktop\\\\works\\\\lesion-learnt\\\\dataset/data/Images/ISIC_0000000.jpeg',\n",
       " 'C:\\\\Users\\\\Hasib\\\\Desktop\\\\works\\\\lesion-learnt\\\\dataset/data/Images/ISIC_0000001.jpeg']"
      ]
     },
     "execution_count": 16,
     "metadata": {},
     "output_type": "execute_result"
    }
   ],
   "source": [
    "image_names = [\"{}/{}\".format(IMAGES, fname) for fname in os.listdir(IMAGES)]\n",
    "image_names[:2]"
   ]
  },
  {
   "cell_type": "code",
   "execution_count": 17,
   "metadata": {},
   "outputs": [
    {
     "name": "stderr",
     "output_type": "stream",
     "text": [
      "23906it [50:53,  7.83it/s]\n"
     ]
    }
   ],
   "source": [
    "\n",
    "images = []\n",
    "labels = []\n",
    "no_label_count = 0\n",
    "\n",
    "for name, img_path in tqdm(zip(annot_names[:], image_names[:])):\n",
    "    with open(name, \"rb\") as annot:\n",
    "        content = json.load(annot)\n",
    "        try:\n",
    "            g_t = content['meta']['clinical']['benign_malignant']\n",
    "        except KeyError:\n",
    "            no_label_count+=1\n",
    "            pass\n",
    "        \n",
    "        img = get_image(img_path)\n",
    "        images.append(img)\n",
    "        if g_t == 'benign':\n",
    "            labels.append(0)\n",
    "        else:\n",
    "            labels.append(1)\n",
    "            \n",
    "images = np.array(images)\n",
    "labels = np.array(labels)"
   ]
  },
  {
   "cell_type": "code",
   "execution_count": null,
   "metadata": {},
   "outputs": [],
   "source": [
    "from keras.utils import np_utils\n",
    "\n",
    "# one hot encoded vectors\n",
    "num_classes = 2\n",
    "g_t_cat = np_utils.to_categorical(g_t,num_classes)\n",
    "print(g_t_cat.shape)"
   ]
  },
  {
   "cell_type": "code",
   "execution_count": null,
   "metadata": {},
   "outputs": [],
   "source": []
  },
  {
   "cell_type": "code",
   "execution_count": null,
   "metadata": {},
   "outputs": [],
   "source": []
  },
  {
   "cell_type": "code",
   "execution_count": null,
   "metadata": {},
   "outputs": [],
   "source": []
  },
  {
   "cell_type": "code",
   "execution_count": 20,
   "metadata": {},
   "outputs": [
    {
     "name": "stderr",
     "output_type": "stream",
     "text": [
      "23906it [1:21:40,  4.88it/s]\n"
     ]
    },
    {
     "data": {
      "text/plain": [
       "(21277, 2629)"
      ]
     },
     "execution_count": 20,
     "metadata": {},
     "output_type": "execute_result"
    }
   ],
   "source": [
    "c = []\n",
    "n = []\n",
    "\n",
    "\n",
    "cnt = None\n",
    "number = 0\n",
    "no_label_count = 0\n",
    "\n",
    "for name, img_path in tqdm(zip(annot_names[:cnt], image_names[:cnt])):\n",
    "    with open(name, \"rb\") as annot:\n",
    "        content = json.load(annot)\n",
    "        try:\n",
    "            g_t = content['meta']['clinical']['benign_malignant']\n",
    "        except KeyError:\n",
    "            no_label_count+=1\n",
    "            pass\n",
    "        \n",
    "        if g_t == 'benign':\n",
    "            img = cv2.imread(img_path) \n",
    "            cv2.imwrite(NORMAL_FOLDER + '/norm' + str(number) + \".jpeg\", img)\n",
    "            n.append(g_t)\n",
    "            img=None\n",
    "        else:\n",
    "            img = cv2.imread(img_path) \n",
    "            cv2.imwrite(CANCER_FOLDER + '/can' + str(number) + \".jpeg\", img)\n",
    "            c.append(g_t)\n",
    "            img=None\n",
    "    number+=1\n",
    "\n",
    "len(n), len(c)"
   ]
  },
  {
   "cell_type": "code",
   "execution_count": null,
   "metadata": {},
   "outputs": [],
   "source": [
    "no_label_count"
   ]
  },
  {
   "cell_type": "code",
   "execution_count": 16,
   "metadata": {},
   "outputs": [
    {
     "data": {
      "text/plain": [
       "'C:\\\\Users\\\\Hasib\\\\Desktop\\\\works\\\\lesion-learnt\\\\dataset/ISIC_ARCHIVE/normal_2629'"
      ]
     },
     "execution_count": 16,
     "metadata": {},
     "output_type": "execute_result"
    }
   ],
   "source": [
    "NORMAL2629_FOLDER = \"{}/normal_2629\".format(NEW_DATASET_PATH)\n",
    "NORMAL2629_FOLDER"
   ]
  },
  {
   "cell_type": "code",
   "execution_count": 18,
   "metadata": {},
   "outputs": [
    {
     "name": "stderr",
     "output_type": "stream",
     "text": [
      "\n",
      "0it [00:00, ?it/s]\n",
      "1it [00:00,  6.13it/s]\n",
      "6it [00:00,  8.29it/s]\n",
      "11it [00:00,  9.73it/s]\n",
      "16it [00:00, 12.66it/s]\n",
      "20it [00:00, 15.87it/s]\n",
      "26it [00:00, 20.30it/s]\n",
      "31it [00:01, 24.59it/s]\n",
      "36it [00:01, 25.94it/s]\n",
      "40it [00:01, 28.02it/s]\n",
      "48it [00:01, 34.58it/s]\n",
      "55it [00:01, 39.73it/s]\n",
      "61it [00:01, 41.72it/s]\n",
      "67it [00:01, 42.59it/s]\n",
      "72it [00:01, 43.18it/s]\n",
      "77it [00:02, 41.03it/s]\n",
      "82it [00:02, 42.37it/s]\n",
      "87it [00:02, 42.05it/s]\n",
      "93it [00:02, 45.56it/s]\n",
      "98it [00:02, 44.80it/s]\n",
      "103it [00:02, 44.99it/s]\n",
      "109it [00:02, 44.33it/s]\n",
      "115it [00:02, 47.98it/s]\n",
      "120it [00:03, 20.65it/s]\n",
      "127it [00:03, 25.92it/s]\n",
      "132it [00:03, 30.30it/s]\n",
      "139it [00:03, 35.24it/s]\n",
      "146it [00:03, 40.48it/s]\n",
      "153it [00:03, 41.48it/s]\n",
      "159it [00:04, 41.19it/s]\n",
      "168it [00:04, 47.94it/s]\n",
      "176it [00:04, 53.18it/s]\n",
      "183it [00:04, 53.62it/s]\n",
      "190it [00:04, 54.19it/s]\n",
      "197it [00:04, 57.84it/s]\n",
      "204it [00:04, 60.70it/s]\n",
      "211it [00:05, 50.60it/s]\n",
      "217it [00:05, 49.42it/s]\n",
      "223it [00:05, 51.24it/s]\n",
      "230it [00:05, 54.30it/s]\n",
      "238it [00:05, 58.00it/s]\n",
      "245it [00:05, 60.04it/s]\n",
      "252it [00:05, 54.38it/s]\n",
      "259it [00:05, 55.77it/s]\n",
      "265it [00:05, 56.33it/s]\n",
      "271it [00:06, 57.22it/s]\n",
      "277it [00:06, 54.84it/s]\n",
      "284it [00:06, 56.80it/s]\n",
      "290it [00:06, 52.56it/s]\n",
      "296it [00:06, 48.03it/s]\n",
      "301it [00:06, 36.00it/s]\n",
      "309it [00:06, 42.50it/s]\n",
      "317it [00:07, 48.55it/s]\n",
      "323it [00:07, 50.97it/s]\n",
      "329it [00:07, 50.93it/s]\n",
      "335it [00:07, 49.77it/s]\n",
      "341it [00:07, 48.86it/s]\n",
      "347it [00:07, 46.56it/s]\n",
      "352it [00:07, 43.79it/s]\n",
      "358it [00:07, 46.98it/s]\n",
      "363it [00:08, 40.82it/s]\n",
      "369it [00:08, 43.67it/s]\n",
      "377it [00:08, 50.27it/s]\n",
      "383it [00:08, 28.11it/s]\n",
      "388it [00:09, 16.85it/s]\n",
      "394it [00:09, 21.35it/s]\n",
      "400it [00:09, 25.65it/s]\n",
      "407it [00:09, 31.62it/s]\n",
      "415it [00:09, 37.81it/s]\n",
      "421it [00:09, 42.53it/s]\n",
      "427it [00:09, 41.91it/s]\n",
      "433it [00:10, 16.93it/s]\n",
      "438it [00:10, 20.70it/s]\n",
      "444it [00:11, 25.47it/s]\n",
      "449it [00:11, 28.58it/s]\n",
      "454it [00:11, 30.29it/s]\n",
      "459it [00:11, 31.80it/s]\n",
      "464it [00:11, 33.95it/s]\n",
      "469it [00:11, 37.40it/s]\n",
      "474it [00:11, 38.23it/s]\n",
      "479it [00:11, 35.67it/s]\n",
      "483it [00:12, 34.49it/s]\n",
      "487it [00:12, 35.97it/s]\n",
      "493it [00:12, 40.80it/s]\n",
      "499it [00:12, 37.65it/s]\n",
      "505it [00:12, 33.29it/s]\n",
      "509it [00:12, 33.64it/s]\n",
      "513it [00:12, 34.41it/s]\n",
      "517it [00:13, 21.64it/s]\n",
      "520it [00:13, 10.79it/s]\n",
      "525it [00:13, 13.95it/s]\n",
      "530it [00:14, 15.77it/s]\n",
      "533it [00:14, 15.23it/s]\n",
      "539it [00:14, 18.77it/s]\n",
      "543it [00:14, 22.29it/s]\n",
      "551it [00:14, 28.14it/s]\n",
      "557it [00:14, 32.34it/s]\n",
      "562it [00:14, 36.01it/s]\n",
      "569it [00:15, 41.40it/s]\n",
      "576it [00:15, 47.00it/s]\n",
      "582it [00:15, 48.67it/s]\n",
      "588it [00:15, 50.04it/s]\n",
      "596it [00:15, 56.26it/s]\n",
      "603it [00:15, 56.45it/s]\n",
      "610it [00:15, 51.81it/s]\n",
      "617it [00:15, 54.61it/s]\n",
      "625it [00:16, 58.37it/s]\n",
      "632it [00:16, 61.27it/s]\n",
      "639it [00:16, 62.79it/s]\n",
      "646it [00:16, 58.46it/s]\n",
      "655it [00:16, 59.50it/s]\n",
      "662it [00:16, 54.58it/s]\n",
      "672it [00:16, 61.21it/s]\n",
      "679it [00:16, 60.79it/s]\n",
      "686it [00:17, 48.24it/s]\n",
      "692it [00:17, 46.92it/s]\n",
      "698it [00:17, 41.55it/s]\n",
      "703it [00:17, 41.69it/s]\n",
      "709it [00:17, 45.26it/s]\n",
      "715it [00:17, 48.27it/s]\n",
      "721it [00:17, 48.66it/s]\n",
      "728it [00:18, 52.59it/s]\n",
      "734it [00:18, 54.17it/s]\n",
      "740it [00:18, 49.08it/s]\n",
      "747it [00:18, 53.42it/s]\n",
      "753it [00:18, 45.76it/s]\n",
      "759it [00:18, 48.67it/s]\n",
      "765it [00:18, 50.54it/s]\n",
      "771it [00:18, 44.84it/s]\n",
      "777it [00:19, 47.26it/s]\n",
      "783it [00:19, 49.35it/s]\n",
      "789it [00:19, 50.93it/s]\n",
      "795it [00:19, 50.77it/s]\n",
      "801it [00:20, 21.21it/s]\n",
      "809it [00:20, 26.38it/s]\n",
      "814it [00:20, 30.73it/s]\n",
      "819it [00:20, 34.68it/s]\n",
      "826it [00:20, 39.75it/s]\n",
      "833it [00:20, 43.46it/s]\n",
      "839it [00:20, 42.00it/s]\n",
      "847it [00:20, 47.75it/s]\n",
      "855it [00:20, 53.88it/s]\n",
      "863it [00:21, 57.91it/s]\n",
      "870it [00:21, 42.57it/s]\n",
      "876it [00:21, 44.66it/s]\n",
      "882it [00:21, 48.37it/s]\n",
      "888it [00:21, 48.37it/s]\n",
      "894it [00:21, 49.33it/s]\n",
      "901it [00:21, 52.42it/s]\n",
      "907it [00:22, 51.94it/s]\n",
      "913it [00:22, 53.54it/s]\n",
      "919it [00:22, 46.67it/s]\n",
      "924it [00:22, 43.75it/s]\n",
      "930it [00:22, 46.73it/s]\n",
      "937it [00:22, 50.44it/s]\n",
      "943it [00:22, 41.70it/s]\n",
      "949it [00:23, 41.35it/s]\n",
      "955it [00:23, 42.41it/s]\n",
      "960it [00:23, 44.20it/s]\n",
      "966it [00:23, 47.42it/s]\n",
      "973it [00:23, 50.45it/s]\n",
      "979it [00:23, 48.84it/s]\n",
      "990it [00:23, 56.36it/s]\n",
      "997it [00:23, 55.06it/s]\n",
      "1003it [00:23, 56.13it/s]\n",
      "1009it [00:24, 50.97it/s]\n",
      "1018it [00:24, 56.92it/s]\n",
      "1025it [00:24, 49.97it/s]\n",
      "1031it [00:24, 49.36it/s]\n",
      "1037it [00:24, 43.23it/s]\n",
      "1042it [00:24, 44.22it/s]\n",
      "1048it [00:24, 47.44it/s]\n",
      "1053it [00:25, 30.09it/s]\n",
      "1059it [00:25, 34.76it/s]\n",
      "1064it [00:25, 37.32it/s]\n",
      "1071it [00:25, 43.07it/s]\n",
      "1077it [00:25, 43.29it/s]\n",
      "1083it [00:25, 46.68it/s]\n",
      "1090it [00:25, 51.86it/s]\n",
      "1096it [00:26, 53.06it/s]\n",
      "1102it [00:26, 53.07it/s]\n",
      "1108it [00:26, 41.94it/s]\n",
      "1114it [00:26, 46.00it/s]\n",
      "1120it [00:26, 27.92it/s]\n",
      "1125it [00:26, 30.20it/s]\n",
      "1129it [00:27, 32.59it/s]\n",
      "1134it [00:27, 35.02it/s]\n",
      "1140it [00:27, 38.18it/s]\n",
      "1146it [00:27, 42.76it/s]\n",
      "1151it [00:27, 43.54it/s]\n",
      "1156it [00:27, 39.12it/s]\n",
      "1161it [00:27, 41.13it/s]\n",
      "1170it [00:27, 48.58it/s]\n",
      "1177it [00:28, 53.49it/s]\n",
      "1184it [00:28, 57.14it/s]\n",
      "1191it [00:28, 55.31it/s]\n",
      "1197it [00:28, 52.34it/s]\n",
      "1203it [00:28, 52.42it/s]\n",
      "1209it [00:29, 20.22it/s]\n",
      "1214it [00:29, 23.84it/s]\n",
      "1219it [00:29, 27.53it/s]\n",
      "1224it [00:29, 31.34it/s]\n",
      "1229it [00:29, 35.07it/s]\n",
      "1237it [00:29, 41.91it/s]\n",
      "1243it [00:29, 46.08it/s]\n",
      "1249it [00:30, 45.26it/s]\n",
      "1256it [00:30, 50.09it/s]\n",
      "1262it [00:30, 18.79it/s]\n",
      "1267it [00:31, 14.91it/s]\n",
      "1273it [00:31, 18.97it/s]\n",
      "1279it [00:31, 23.87it/s]\n",
      "1284it [00:31, 26.93it/s]\n",
      "1290it [00:31, 31.46it/s]\n",
      "1296it [00:31, 36.56it/s]\n",
      "1304it [00:32, 42.69it/s]\n",
      "1310it [00:32, 43.48it/s]\n",
      "1316it [00:32, 44.25it/s]\n",
      "1322it [00:32, 46.80it/s]\n",
      "1330it [00:32, 44.08it/s]\n",
      "1335it [00:32, 32.76it/s]\n",
      "1340it [00:33, 36.15it/s]\n",
      "1345it [00:33, 37.81it/s]\n",
      "1351it [00:33, 41.13it/s]\n",
      "1356it [00:33, 41.91it/s]\n",
      "1361it [00:33, 43.70it/s]\n",
      "1367it [00:33, 47.02it/s]\n",
      "1372it [00:33, 40.84it/s]\n",
      "1378it [00:33, 44.26it/s]\n",
      "1383it [00:33, 44.49it/s]\n",
      "1388it [00:34, 44.30it/s]\n",
      "1393it [00:34, 45.12it/s]\n",
      "1399it [00:34, 48.51it/s]\n",
      "1408it [00:34, 56.19it/s]\n",
      "1415it [00:34, 57.09it/s]\n",
      "1422it [00:34, 48.20it/s]\n",
      "1428it [00:34, 49.57it/s]\n",
      "1434it [00:34, 52.16it/s]\n",
      "1440it [00:35, 51.36it/s]\n",
      "1446it [00:35, 49.55it/s]\n",
      "1452it [00:35, 50.31it/s]\n",
      "1461it [00:35, 56.24it/s]\n",
      "1467it [00:35, 51.03it/s]\n",
      "1473it [00:35, 49.70it/s]\n",
      "1479it [00:35, 50.93it/s]\n",
      "1485it [00:35, 51.56it/s]\n",
      "1491it [00:35, 53.40it/s]\n",
      "1497it [00:36, 50.35it/s]\n",
      "1503it [00:36, 33.39it/s]\n",
      "1508it [00:36, 34.05it/s]\n",
      "1512it [00:36, 28.30it/s]\n",
      "1516it [00:36, 30.32it/s]\n",
      "1521it [00:36, 33.96it/s]\n",
      "1525it [00:37, 35.47it/s]\n",
      "1530it [00:37, 37.97it/s]\n",
      "1535it [00:37, 39.29it/s]\n",
      "1544it [00:37, 46.04it/s]\n",
      "1550it [00:37, 43.10it/s]\n",
      "1556it [00:37, 45.68it/s]\n",
      "1561it [00:37, 46.50it/s]\n",
      "1568it [00:37, 50.69it/s]\n",
      "1574it [00:38, 49.85it/s]\n",
      "1580it [00:38, 49.40it/s]\n",
      "1586it [00:38, 48.15it/s]\n",
      "1592it [00:38, 51.05it/s]\n",
      "1598it [00:38, 53.15it/s]\n",
      "1604it [00:38, 39.11it/s]\n",
      "1611it [00:38, 43.64it/s]\n",
      "1616it [00:38, 41.95it/s]\n",
      "1621it [00:39, 43.05it/s]\n",
      "1627it [00:39, 46.17it/s]\n",
      "1632it [00:39, 46.33it/s]\n",
      "1639it [00:39, 51.33it/s]\n",
      "1650it [00:39, 60.71it/s]\n",
      "1658it [00:39, 65.12it/s]\n",
      "1666it [00:39, 68.26it/s]\n",
      "1674it [00:39, 65.44it/s]\n",
      "1681it [00:39, 66.74it/s]\n",
      "1688it [00:40, 60.34it/s]\n",
      "1695it [00:40, 53.92it/s]\n",
      "1701it [00:40, 50.68it/s]\n",
      "1707it [00:40, 51.12it/s]\n",
      "1713it [00:40, 49.03it/s]\n",
      "1721it [00:40, 53.47it/s]\n",
      "1727it [00:40, 51.04it/s]\n",
      "1733it [00:41, 44.51it/s]\n",
      "1740it [00:41, 47.62it/s]\n",
      "1746it [00:41, 48.08it/s]\n",
      "1751it [00:41, 27.65it/s]\n",
      "1755it [00:41, 27.81it/s]\n",
      "1761it [00:41, 32.23it/s]\n",
      "1767it [00:42, 36.81it/s]\n",
      "1773it [00:42, 41.12it/s]\n",
      "1779it [00:42, 43.91it/s]\n",
      "1786it [00:42, 46.02it/s]\n",
      "1792it [00:42, 45.96it/s]\n",
      "1797it [00:42, 38.95it/s]\n",
      "1803it [00:42, 42.79it/s]\n",
      "1808it [00:42, 40.98it/s]\n",
      "1814it [00:43, 43.80it/s]\n",
      "1820it [00:43, 46.55it/s]\n",
      "1825it [00:43, 42.56it/s]\n",
      "1831it [00:43, 44.54it/s]\n",
      "1836it [00:43, 43.19it/s]\n",
      "1841it [00:43, 43.73it/s]\n",
      "1846it [00:43, 45.19it/s]\n",
      "1851it [00:43, 46.14it/s]\n",
      "1857it [00:43, 47.57it/s]\n",
      "1863it [00:44, 49.23it/s]\n",
      "1871it [00:44, 54.07it/s]\n",
      "1877it [00:44, 54.80it/s]\n",
      "1883it [00:44, 55.18it/s]\n",
      "1889it [00:44, 51.98it/s]\n",
      "1895it [00:45, 24.80it/s]\n",
      "1901it [00:45, 29.70it/s]\n",
      "1909it [00:45, 34.92it/s]\n",
      "1915it [00:45, 39.38it/s]\n",
      "1921it [00:45, 37.49it/s]\n",
      "1930it [00:45, 43.84it/s]\n",
      "1936it [00:45, 41.38it/s]\n",
      "1941it [00:46, 38.32it/s]\n",
      "1949it [00:46, 45.11it/s]\n",
      "1955it [00:46, 47.92it/s]\n",
      "1961it [00:46, 50.23it/s]\n",
      "1967it [00:46, 49.91it/s]\n",
      "1973it [00:46, 37.56it/s]\n",
      "1978it [00:47, 19.64it/s]\n",
      "1982it [00:47, 21.32it/s]\n",
      "1986it [00:47, 24.57it/s]\n",
      "1992it [00:47, 29.59it/s]\n",
      "1997it [00:47, 33.52it/s]\n",
      "2006it [00:47, 40.35it/s]\n",
      "2012it [00:47, 42.83it/s]\n",
      "2019it [00:48, 47.58it/s]\n",
      "2025it [00:48, 50.47it/s]\n",
      "2031it [00:48, 52.72it/s]\n",
      "2037it [00:48, 52.83it/s]\n",
      "2044it [00:48, 54.88it/s]\n",
      "2050it [00:48, 41.48it/s]\n",
      "2055it [00:48, 38.29it/s]\n",
      "2060it [00:49, 20.43it/s]\n",
      "2064it [00:49, 21.79it/s]\n",
      "2070it [00:49, 26.76it/s]\n",
      "2075it [00:49, 30.58it/s]\n",
      "2082it [00:50, 26.78it/s]\n",
      "2086it [00:50, 29.66it/s]\n",
      "2093it [00:50, 35.54it/s]\n",
      "2098it [00:50, 38.46it/s]\n",
      "2105it [00:50, 43.89it/s]\n",
      "2111it [00:51, 26.21it/s]\n",
      "2118it [00:51, 32.22it/s]\n",
      "2124it [00:51, 37.35it/s]\n",
      "2130it [00:51, 41.51it/s]\n",
      "2136it [00:51, 43.93it/s]\n",
      "2142it [00:51, 46.32it/s]\n",
      "2148it [00:51, 49.60it/s]\n",
      "2154it [00:51, 50.22it/s]\n",
      "2160it [00:51, 51.84it/s]\n",
      "2166it [00:52, 41.49it/s]\n",
      "2171it [00:52, 42.93it/s]\n",
      "2176it [00:52, 34.17it/s]\n",
      "2181it [00:52, 37.08it/s]\n",
      "2186it [00:52, 38.00it/s]\n",
      "2191it [00:52, 30.19it/s]\n",
      "2197it [00:53, 32.64it/s]\n",
      "2202it [00:53, 35.65it/s]\n",
      "2212it [00:53, 43.32it/s]\n",
      "2220it [00:53, 48.06it/s]\n",
      "2226it [00:53, 24.23it/s]\n",
      "2231it [00:54, 28.13it/s]\n",
      "2237it [00:54, 32.86it/s]\n",
      "2243it [00:54, 37.87it/s]\n",
      "2249it [00:54, 42.58it/s]\n",
      "2259it [00:54, 50.58it/s]\n",
      "2266it [00:54, 46.12it/s]\n",
      "2272it [00:54, 47.67it/s]\n",
      "2281it [00:54, 54.29it/s]\n",
      "2288it [00:55, 48.03it/s]\n",
      "2294it [00:55, 49.08it/s]\n",
      "2301it [00:55, 51.30it/s]\n",
      "2307it [00:55, 49.89it/s]\n",
      "2313it [00:55, 43.80it/s]\n",
      "2318it [00:55, 42.15it/s]\n",
      "2323it [00:55, 44.12it/s]\n",
      "2329it [00:55, 47.13it/s]\n",
      "2336it [00:56, 48.96it/s]\n",
      "2342it [00:56, 49.03it/s]\n",
      "2348it [00:56, 51.60it/s]\n",
      "2354it [00:56, 47.02it/s]\n",
      "2359it [00:56, 41.45it/s]\n",
      "2365it [00:56, 43.98it/s]\n",
      "2371it [00:56, 47.58it/s]\n",
      "2377it [00:56, 49.97it/s]\n",
      "2383it [00:57, 51.79it/s]\n",
      "2389it [00:57, 45.83it/s]\n",
      "2394it [00:57, 43.80it/s]\n",
      "2399it [00:57, 35.21it/s]\n",
      "2404it [00:57, 37.34it/s]\n",
      "2411it [00:57, 42.93it/s]\n",
      "2416it [00:57, 42.98it/s]\n",
      "2423it [00:57, 48.21it/s]\n",
      "2429it [00:58, 49.58it/s]\n",
      "2435it [00:58, 51.89it/s]\n",
      "2442it [00:58, 54.29it/s]\n",
      "2449it [00:58, 51.87it/s]\n",
      "2455it [00:58, 44.35it/s]\n",
      "2460it [00:58, 28.10it/s]\n",
      "2464it [00:59, 30.71it/s]\n",
      "2468it [00:59, 18.29it/s]\n",
      "2474it [00:59, 22.72it/s]\n",
      "2482it [00:59, 28.59it/s]\n",
      "2488it [00:59, 33.63it/s]\n",
      "2494it [00:59, 35.13it/s]\n",
      "2499it [01:00, 37.28it/s]\n",
      "2505it [01:00, 41.53it/s]\n",
      "2512it [01:00, 46.36it/s]\n",
      "2518it [01:00, 46.19it/s]\n",
      "2524it [01:01, 16.38it/s]\n",
      "2532it [01:01, 21.32it/s]\n",
      "2538it [01:01, 24.82it/s]\n",
      "2544it [01:01, 29.94it/s]\n",
      "2549it [01:01, 31.47it/s]\n",
      "2555it [01:01, 36.17it/s]\n",
      "2560it [01:02, 33.63it/s]\n",
      "2565it [01:02, 34.87it/s]\n",
      "2574it [01:02, 42.30it/s]\n",
      "2580it [01:02, 44.15it/s]\n",
      "2586it [01:03, 14.18it/s]\n",
      "2591it [01:03, 17.89it/s]\n",
      "2598it [01:03, 22.61it/s]\n",
      "2604it [01:03, 27.77it/s]\n",
      "2612it [01:04, 34.27it/s]\n",
      "2618it [01:04, 37.20it/s]\n",
      "2624it [01:04, 40.71it/s]\n",
      "2630it [01:04, 44.35it/s]\n",
      "2636it [01:04, 47.66it/s]\n",
      "2642it [01:04, 26.12it/s]\n",
      "2647it [01:05, 29.00it/s]\n",
      "2653it [01:05, 33.35it/s]\n",
      "2659it [01:05, 37.75it/s]\n",
      "2666it [01:05, 43.39it/s]\n",
      "2672it [01:05, 42.14it/s]\n",
      "2677it [01:05, 41.37it/s]\n",
      "2683it [01:05, 40.86it/s]\n",
      "2688it [01:05, 41.82it/s]\n",
      "2697it [01:06, 48.69it/s]\n",
      "2703it [01:06, 48.01it/s]\n",
      "2709it [01:06, 48.59it/s]\n",
      "2716it [01:06, 51.61it/s]\n",
      "2722it [01:06, 49.96it/s]\n",
      "2728it [01:06, 43.55it/s]\n",
      "2734it [01:06, 47.12it/s]\n",
      "2741it [01:06, 52.24it/s]\n",
      "2747it [01:07, 51.55it/s]\n",
      "2753it [01:07, 51.86it/s]\n",
      "2759it [01:07, 52.09it/s]\n",
      "2765it [01:07, 49.78it/s]\n",
      "2772it [01:07, 52.66it/s]\n",
      "2779it [01:07, 53.37it/s]\n",
      "2786it [01:07, 57.32it/s]\n",
      "2792it [01:07, 53.87it/s]\n",
      "2798it [01:08, 49.64it/s]\n",
      "2804it [01:08, 45.87it/s]\n",
      "2810it [01:08, 48.63it/s]\n",
      "2816it [01:08, 45.99it/s]\n",
      "2821it [01:08, 29.46it/s]\n",
      "2826it [01:08, 32.94it/s]\n",
      "2831it [01:09, 31.55it/s]\n",
      "2837it [01:09, 36.52it/s]\n",
      "2847it [01:09, 44.86it/s]\n",
      "2853it [01:09, 47.72it/s]\n",
      "2859it [01:09, 45.42it/s]\n",
      "2865it [01:09, 39.19it/s]\n",
      "2870it [01:09, 40.10it/s]\n",
      "2875it [01:09, 38.40it/s]\n",
      "2881it [01:10, 41.88it/s]\n",
      "2888it [01:10, 44.53it/s]\n",
      "2893it [01:10, 37.88it/s]\n",
      "2899it [01:10, 42.41it/s]\n",
      "2904it [01:10, 44.08it/s]\n",
      "2909it [01:10, 44.72it/s]\n",
      "2918it [01:10, 52.03it/s]\n",
      "2924it [01:10, 49.62it/s]\n",
      "2931it [01:11, 53.74it/s]\n",
      "2937it [01:11, 45.40it/s]\n",
      "2943it [01:11, 44.50it/s]\n",
      "2948it [01:11, 42.61it/s]\n",
      "2953it [01:11, 40.97it/s]\n",
      "2958it [01:11, 39.70it/s]"
     ]
    },
    {
     "data": {
      "text/plain": [
       "(2630, 0, 2630, 2960)"
      ]
     },
     "execution_count": 18,
     "metadata": {},
     "output_type": "execute_result"
    },
    {
     "name": "stderr",
     "output_type": "stream",
     "text": [
      "\n",
      "2958it [01:28, 39.70it/s]"
     ]
    }
   ],
   "source": [
    "c = []\n",
    "n = []\n",
    "\n",
    "cnt = None\n",
    "number = 0\n",
    "no_label_count = 0\n",
    "\n",
    "for name, img_path in tqdm(zip(annot_names[17500:cnt], image_names[17500:cnt])):\n",
    "    with open(name, \"rb\") as annot:\n",
    "        content = json.load(annot)\n",
    "        try:\n",
    "            g_t = content['meta']['clinical']['benign_malignant']\n",
    "        except KeyError:\n",
    "            pass\n",
    "        \n",
    "        if no_label_count == 2630:\n",
    "            break\n",
    "        else:\n",
    "            if g_t == 'benign':\n",
    "                #print(g_t)\n",
    "                no_label_count+=1\n",
    "                img = cv2.imread(img_path) \n",
    "                cv2.imwrite(NORMAL2629_FOLDER + '/benign' + str(number) + \".jpeg\", img)\n",
    "                n.append(g_t)\n",
    "            else:\n",
    "                pass\n",
    "            \n",
    "    number+=1\n",
    "    \n",
    "\n",
    "len(n), len(c), no_label_count, number"
   ]
  },
  {
   "cell_type": "code",
   "execution_count": null,
   "metadata": {},
   "outputs": [],
   "source": []
  }
 ],
 "metadata": {
  "kernelspec": {
   "display_name": "Python 3",
   "language": "python",
   "name": "python3"
  },
  "language_info": {
   "codemirror_mode": {
    "name": "ipython",
    "version": 3
   },
   "file_extension": ".py",
   "mimetype": "text/x-python",
   "name": "python",
   "nbconvert_exporter": "python",
   "pygments_lexer": "ipython3",
   "version": "3.6.9"
  }
 },
 "nbformat": 4,
 "nbformat_minor": 4
}
